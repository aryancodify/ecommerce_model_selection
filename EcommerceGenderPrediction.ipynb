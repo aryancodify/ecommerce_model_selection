{
 "cells": [
  {
   "cell_type": "code",
   "execution_count": 8,
   "metadata": {
    "scrolled": true
   },
   "outputs": [
    {
     "data": {
      "text/html": [
       "<div>\n",
       "<style scoped>\n",
       "    .dataframe tbody tr th:only-of-type {\n",
       "        vertical-align: middle;\n",
       "    }\n",
       "\n",
       "    .dataframe tbody tr th {\n",
       "        vertical-align: top;\n",
       "    }\n",
       "\n",
       "    .dataframe thead th {\n",
       "        text-align: right;\n",
       "    }\n",
       "</style>\n",
       "<table border=\"1\" class=\"dataframe\">\n",
       "  <thead>\n",
       "    <tr style=\"text-align: right;\">\n",
       "      <th></th>\n",
       "      <th>ratio</th>\n",
       "      <th>time</th>\n",
       "      <th>label</th>\n",
       "    </tr>\n",
       "  </thead>\n",
       "  <tbody>\n",
       "    <tr>\n",
       "      <th>0</th>\n",
       "      <td>0.54</td>\n",
       "      <td>17.2</td>\n",
       "      <td>female</td>\n",
       "    </tr>\n",
       "    <tr>\n",
       "      <th>1</th>\n",
       "      <td>0.93</td>\n",
       "      <td>18.2</td>\n",
       "      <td>male</td>\n",
       "    </tr>\n",
       "    <tr>\n",
       "      <th>2</th>\n",
       "      <td>0.84</td>\n",
       "      <td>13.6</td>\n",
       "      <td>female</td>\n",
       "    </tr>\n",
       "    <tr>\n",
       "      <th>3</th>\n",
       "      <td>0.19</td>\n",
       "      <td>6.0</td>\n",
       "      <td>male</td>\n",
       "    </tr>\n",
       "    <tr>\n",
       "      <th>4</th>\n",
       "      <td>0.89</td>\n",
       "      <td>13.2</td>\n",
       "      <td>female</td>\n",
       "    </tr>\n",
       "  </tbody>\n",
       "</table>\n",
       "</div>"
      ],
      "text/plain": [
       "   ratio  time   label\n",
       "0   0.54  17.2  female\n",
       "1   0.93  18.2    male\n",
       "2   0.84  13.6  female\n",
       "3   0.19   6.0    male\n",
       "4   0.89  13.2  female"
      ]
     },
     "execution_count": 8,
     "metadata": {},
     "output_type": "execute_result"
    }
   ],
   "source": [
    "import pandas as pd\n",
    "\n",
    "ecomm = pd.read_csv(\"ecommerce_consumers.csv\")\n",
    "ecomm.head()"
   ]
  },
  {
   "cell_type": "code",
   "execution_count": 9,
   "metadata": {
    "scrolled": true
   },
   "outputs": [
    {
     "name": "stdout",
     "output_type": "stream",
     "text": [
      "<class 'pandas.core.frame.DataFrame'>\n",
      "RangeIndex: 200 entries, 0 to 199\n",
      "Data columns (total 3 columns):\n",
      "ratio    200 non-null float64\n",
      "time     200 non-null float64\n",
      "label    200 non-null int64\n",
      "dtypes: float64(2), int64(1)\n",
      "memory usage: 4.8 KB\n"
     ]
    }
   ],
   "source": [
    "ecomm['label'] = ecomm['label'].map({ 'female': 0, 'male': 1})\n",
    "ecomm.info()"
   ]
  },
  {
   "cell_type": "code",
   "execution_count": 10,
   "metadata": {},
   "outputs": [],
   "source": [
    "from sklearn.model_selection import train_test_split\n",
    "from sklearn.metrics import accuracy_score\n",
    "from sklearn.metrics import confusion_matrix\n",
    "from sklearn.metrics import recall_score\n",
    "from sklearn.metrics import precision_score\n",
    "from sklearn.metrics import f1_score"
   ]
  },
  {
   "cell_type": "code",
   "execution_count": 11,
   "metadata": {},
   "outputs": [
    {
     "name": "stderr",
     "output_type": "stream",
     "text": [
      "D:\\ProgramData\\Anaconda3\\lib\\site-packages\\sklearn\\model_selection\\_split.py:2026: FutureWarning: From version 0.21, test_size will always complement train_size unless both are specified.\n",
      "  FutureWarning)\n"
     ]
    }
   ],
   "source": [
    "y = ecomm['label']\n",
    "ind_headers = list(ecomm.columns.values)\n",
    "ind_headers.remove('label')\n",
    "X = ecomm[ind_headers]\n",
    "X_train, X_test, y_train, y_test = train_test_split(X,y,train_size=0.7, random_state=100)"
   ]
  },
  {
   "cell_type": "code",
   "execution_count": 12,
   "metadata": {},
   "outputs": [],
   "source": [
    "\"\"\" \n",
    "Function that trains the given classifier on training data and comes up with prediction and accuracy score\n",
    "for the test dataset\n",
    "\n",
    "@Author Aryan Singh\n",
    "\"\"\"\n",
    "def train_model(clf, train_x,train_y,test_x,test_y):\n",
    "    trained_model = clf.fit(train_x, train_y)\n",
    "    print(trained_model)\n",
    "    predictions_train = trained_model.predict(train_x)\n",
    "    predictions = trained_model.predict(test_x)\n",
    "    for i in range(0, 5):\n",
    "        print(\"Actual outcome :: {} and Predicted outcome :: {}\".format(list(test_y)[i], predictions[i]))\n",
    "    print(\"Train Accuracy :: \", accuracy_score(train_y, predictions_train))\n",
    "    print(\"Test Accuracy  :: \", accuracy_score(test_y, predictions))\n",
    "    print(\" Confusion matrix for train dataset\", confusion_matrix(train_y, predictions_train))\n",
    "    print(\" Confusion matrix for test dataset\", confusion_matrix(test_y, predictions))\n",
    "    return predictions"
   ]
  },
  {
   "cell_type": "code",
   "execution_count": 13,
   "metadata": {},
   "outputs": [],
   "source": [
    "\n",
    "\"\"\"\n",
    " Function that takes in the predictions and labels of test dataset to determine the F-1 score,Function \n",
    "sensitivity, specificity, recall and precision for the given dataset.\n",
    "\n",
    "@Author Aryan Singh\n",
    "\"\"\"\n",
    "def measure_accuracy(test_y, predictions):\n",
    "    confusion = confusion_matrix(test_y, predictions)\n",
    "\n",
    "    TP = confusion[1,1]\n",
    "    TN = confusion[0,0]\n",
    "    FP = confusion[0,1]\n",
    "    FN = confusion[1,0]\n",
    "\n",
    "    sensitivity = TP/ (TP + FN)\n",
    "    print(\"Sensitivity \", sensitivity)\n",
    "\n",
    "    specificity = TN/(TN + FP)\n",
    "    print(\"specificity\", specificity)\n",
    "\n",
    "    precision = TP / (TP + FP)\n",
    "    print(\"pricision \", precision)\n",
    "    print(\"Precision Score:\",precision_score(test_y, predictions))\n",
    "\n",
    "    print(\"Recall Score:\", recall_score(test_y, predictions))\n",
    "\n",
    "    print(\"F1 Score:\", f1_score(test_y, predictions))"
   ]
  },
  {
   "cell_type": "code",
   "execution_count": 15,
   "metadata": {},
   "outputs": [
    {
     "name": "stdout",
     "output_type": "stream",
     "text": [
      "=============================Logistic Regression Model================================\n",
      "LogisticRegression(C=1.0, class_weight=None, dual=False, fit_intercept=True,\n",
      "          intercept_scaling=1, max_iter=100, multi_class='ovr', n_jobs=1,\n",
      "          penalty='l2', random_state=None, solver='liblinear', tol=0.0001,\n",
      "          verbose=0, warm_start=False)\n",
      "Actual outcome :: 1 and Predicted outcome :: 1\n",
      "Actual outcome :: 1 and Predicted outcome :: 1\n",
      "Actual outcome :: 1 and Predicted outcome :: 1\n",
      "Actual outcome :: 0 and Predicted outcome :: 1\n",
      "Actual outcome :: 1 and Predicted outcome :: 1\n",
      "Train Accuracy ::  0.6642857142857143\n",
      "Test Accuracy  ::  0.7\n",
      " Confusion matrix for train dataset [[ 0 47]\n",
      " [ 0 93]]\n",
      " Confusion matrix for test dataset [[ 0 18]\n",
      " [ 0 42]]\n",
      "Sensitivity  1.0\n",
      "specificity 0.0\n",
      "pricision  0.7\n",
      "Precision Score: 0.7\n",
      "Recall Score: 1.0\n",
      "F1 Score: 0.8235294117647058\n",
      "=============================Decision Tree Classifier================================\n",
      "DecisionTreeClassifier(class_weight=None, criterion='gini', max_depth=6,\n",
      "            max_features=None, max_leaf_nodes=None,\n",
      "            min_impurity_decrease=0.0, min_impurity_split=None,\n",
      "            min_samples_leaf=10, min_samples_split=2,\n",
      "            min_weight_fraction_leaf=0.0, presort=False, random_state=None,\n",
      "            splitter='best')\n",
      "Actual outcome :: 1 and Predicted outcome :: 1\n",
      "Actual outcome :: 1 and Predicted outcome :: 1\n",
      "Actual outcome :: 1 and Predicted outcome :: 1\n",
      "Actual outcome :: 0 and Predicted outcome :: 0\n",
      "Actual outcome :: 1 and Predicted outcome :: 1\n",
      "Train Accuracy ::  0.9642857142857143\n",
      "Test Accuracy  ::  0.95\n",
      " Confusion matrix for train dataset [[45  2]\n",
      " [ 3 90]]\n",
      " Confusion matrix for test dataset [[18  0]\n",
      " [ 3 39]]\n",
      "Sensitivity  0.9285714285714286\n",
      "specificity 1.0\n",
      "pricision  1.0\n",
      "Precision Score: 1.0\n",
      "Recall Score: 0.9285714285714286\n",
      "F1 Score: 0.962962962962963\n",
      "=============================SVC Model================================\n",
      "SVC(C=1.0, cache_size=200, class_weight=None, coef0=0.0,\n",
      "  decision_function_shape='ovr', degree=3, gamma='auto', kernel='poly',\n",
      "  max_iter=-1, probability=False, random_state=None, shrinking=True,\n",
      "  tol=0.001, verbose=False)\n",
      "Actual outcome :: 1 and Predicted outcome :: 1\n",
      "Actual outcome :: 1 and Predicted outcome :: 1\n",
      "Actual outcome :: 1 and Predicted outcome :: 1\n",
      "Actual outcome :: 0 and Predicted outcome :: 1\n",
      "Actual outcome :: 1 and Predicted outcome :: 1\n",
      "Train Accuracy ::  0.6642857142857143\n",
      "Test Accuracy  ::  0.7\n",
      " Confusion matrix for train dataset [[ 0 47]\n",
      " [ 0 93]]\n",
      " Confusion matrix for test dataset [[ 0 18]\n",
      " [ 0 42]]\n",
      "Sensitivity  1.0\n",
      "specificity 0.0\n",
      "pricision  0.7\n",
      "Precision Score: 0.7\n",
      "Recall Score: 1.0\n",
      "F1 Score: 0.8235294117647058\n"
     ]
    }
   ],
   "source": [
    "from sklearn.linear_model import LogisticRegression\n",
    "from sklearn.svm import SVC\n",
    "from sklearn.tree import DecisionTreeClassifier\n",
    "\n",
    "print('=============================Logistic Regression Model================================')\n",
    "lr = LogisticRegression()\n",
    "predictions = train_model(lr, X_train, y_train, X_test, y_test)\n",
    "measure_accuracy(y_test, predictions) \n",
    "\n",
    "print('=============================Decision Tree Classifier================================')\n",
    "dt = DecisionTreeClassifier(min_samples_leaf=10, max_depth=6)\n",
    "predictions = train_model(dt, X_train, y_train, X_test, y_test)\n",
    "measure_accuracy(y_test, predictions) \n",
    "\n",
    "print('=============================SVC Model================================')\n",
    "svc = SVC(kernel = 'rbf')\n",
    "predictions = train_model(svc, X_train, y_train, X_test, y_test)\n",
    "measure_accuracy(y_test, predictions) "
   ]
  },
  {
   "cell_type": "code",
   "execution_count": null,
   "metadata": {},
   "outputs": [],
   "source": []
  }
 ],
 "metadata": {
  "kernelspec": {
   "display_name": "Python 3",
   "language": "python",
   "name": "python3"
  },
  "language_info": {
   "codemirror_mode": {
    "name": "ipython",
    "version": 3
   },
   "file_extension": ".py",
   "mimetype": "text/x-python",
   "name": "python",
   "nbconvert_exporter": "python",
   "pygments_lexer": "ipython3",
   "version": "3.6.4"
  }
 },
 "nbformat": 4,
 "nbformat_minor": 2
}
